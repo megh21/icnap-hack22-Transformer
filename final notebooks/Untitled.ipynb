{
 "cells": [
  {
   "cell_type": "code",
   "execution_count": 99,
   "id": "5888b972",
   "metadata": {},
   "outputs": [],
   "source": [
    "from tensorflow import keras\n",
    "from tensorflow.keras import layers"
   ]
  },
  {
   "cell_type": "code",
   "execution_count": 9,
   "id": "ee9e3463",
   "metadata": {},
   "outputs": [],
   "source": [
    "def transformer_encoder(inputs, head_size=256, num_heads=4, ff_dim=4, dropout=0):\n",
    "    # Normalization and Attention\n",
    "    x = layers.LayerNormalization(epsilon=1e-6)(inputs)\n",
    "    x = layers.MultiHeadAttention(\n",
    "        key_dim=head_size, num_heads=num_heads, dropout=dropout\n",
    "    )(x, x)\n",
    "    x = layers.Dropout(dropout)(x)\n",
    "    res = x + inputs\n",
    "\n",
    "    # Feed Forward Part\n",
    "    x = layers.LayerNormalization(epsilon=1e-6)(res)\n",
    "    x = layers.Conv1D(filters=ff_dim, kernel_size=1, activation=\"relu\")(x)\n",
    "    x = layers.Dropout(dropout)(x)\n",
    "    x = layers.Conv1D(filters=inputs.shape[-1], kernel_size=1)(x)\n",
    "    return x + res"
   ]
  },
  {
   "cell_type": "code",
   "execution_count": 10,
   "id": "26688b2e",
   "metadata": {},
   "outputs": [],
   "source": [
    "# Hackathon - INCAP - IconPro GmbH\n",
    "# Timeseries Classification with Transformers\n",
    "\n",
    "from dataclasses import dataclass\n",
    "import os\n",
    "from time import time\n",
    "import typing\n",
    "import numpy as np\n",
    "from sklearn.model_selection import train_test_split\n",
    "from lstm import lstm \n",
    "import pandas as pd\n",
    "# Import packages as you need\n",
    "\n",
    "def load_data(data_path : str) -> pd.DataFrame:\n",
    "    \"\"\"\n",
    "    Loading of the dataset provided\n",
    "    Edit the code below\n",
    "    \"\"\"\n",
    "    data=pd.read_pickle(data_path)\n",
    "    columns = data.columns\n",
    "    data[columns[0]] = data[columns[0]].apply(lambda x: x.reshape((500,1)))\n",
    "    data[columns[0]] = data[columns[0]].apply(lambda x: np.array(x))\n",
    "    return data\n",
    "\n",
    "\n",
    "def preprocess_data(data):\n",
    "    \"\"\"\n",
    "    A standard nan removal to be added.\n",
    "    Add more preprocessing steps if needed.\n",
    "    \"\"\"\n",
    "    data = data.dropna()\n",
    "    columns = data.columns\n",
    "    data[columns[1]] = data[columns[1]].apply(lambda x: int(x))\n",
    "    data[columns[1]] = [0 if x==-1 else 1 for x in data[columns[1]]]\n",
    "    return data\n",
    "\n",
    "def split_train_test(data):\n",
    "    \"\"\"\n",
    "    Splitting the data into train, test, validation \n",
    "    \"\"\"\n",
    "    train, test = train_test_split(data,test_size=0.4, random_state=42,stratify=data['labels'])\n",
    "    test, val = train_test_split(test,test_size=0.5, random_state=42, stratify=test['labels'])\n",
    "\n",
    "    return train, test, val\n",
    "\n",
    "def reshape_time_series(data):\n",
    "    new_data = []\n",
    "    for array in data:\n",
    "        new_data.append(np.array(array))\n",
    "    X = np.array(new_data)\n",
    "    X = X.reshape(X.shape[0],500,1)\n",
    "    return X\n",
    "\n",
    "def timeseries_transform(data):\n",
    "    \"\"\"\n",
    "    Implement the timeseries transformer here\n",
    "    \"\"\"\n",
    "    n_classes= len(data[data.columns[1]].unique())\n",
    "    inputs = data[data.columns[0]]\n",
    "    inputs = reshape_time_series(inputs)\n",
    "    x = transformer_encoder(inputs)\n",
    "    return x\n",
    "\n",
    " "
   ]
  },
  {
   "cell_type": "code",
   "execution_count": 11,
   "id": "715a8db4",
   "metadata": {},
   "outputs": [],
   "source": [
    "data = load_data(data_path = \"FordA\\data.pkl\")\n",
    "processed_data = preprocess_data(data)\n",
    "train,test,val = split_train_test(processed_data)\n"
   ]
  },
  {
   "cell_type": "code",
   "execution_count": 13,
   "id": "fa7ef99b",
   "metadata": {},
   "outputs": [],
   "source": [
    "from tensorflow.keras import layers"
   ]
  },
  {
   "cell_type": "code",
   "execution_count": 14,
   "id": "319d0ae6",
   "metadata": {},
   "outputs": [
    {
     "ename": "ResourceExhaustedError",
     "evalue": "Exception encountered when calling layer \"query\" (type EinsumDense).\n\nOOM when allocating tensor with shape[2460500,1024] and type float on /job:localhost/replica:0/task:0/device:GPU:0 by allocator GPU_0_bfc [Op:Einsum]\n\nCall arguments received by layer \"query\" (type EinsumDense):\n  • inputs=tf.Tensor(shape=(4921, 500, 1), dtype=float32)",
     "output_type": "error",
     "traceback": [
      "\u001b[1;31m---------------------------------------------------------------------------\u001b[0m",
      "\u001b[1;31mResourceExhaustedError\u001b[0m                    Traceback (most recent call last)",
      "Input \u001b[1;32mIn [14]\u001b[0m, in \u001b[0;36m<cell line: 1>\u001b[1;34m()\u001b[0m\n\u001b[1;32m----> 1\u001b[0m \u001b[43mtimeseries_transform\u001b[49m\u001b[43m(\u001b[49m\u001b[43mprocessed_data\u001b[49m\u001b[43m)\u001b[49m\n",
      "Input \u001b[1;32mIn [10]\u001b[0m, in \u001b[0;36mtimeseries_transform\u001b[1;34m(data)\u001b[0m\n\u001b[0;32m     59\u001b[0m inputs \u001b[38;5;241m=\u001b[39m data[data\u001b[38;5;241m.\u001b[39mcolumns[\u001b[38;5;241m0\u001b[39m]]\n\u001b[0;32m     60\u001b[0m inputs \u001b[38;5;241m=\u001b[39m reshape_time_series(inputs)\n\u001b[1;32m---> 61\u001b[0m x \u001b[38;5;241m=\u001b[39m \u001b[43mtransformer_encoder\u001b[49m\u001b[43m(\u001b[49m\u001b[43minputs\u001b[49m\u001b[43m)\u001b[49m\n\u001b[0;32m     62\u001b[0m \u001b[38;5;28;01mreturn\u001b[39;00m x\n",
      "Input \u001b[1;32mIn [9]\u001b[0m, in \u001b[0;36mtransformer_encoder\u001b[1;34m(inputs, head_size, num_heads, ff_dim, dropout)\u001b[0m\n\u001b[0;32m      1\u001b[0m \u001b[38;5;28;01mdef\u001b[39;00m \u001b[38;5;21mtransformer_encoder\u001b[39m(inputs, head_size\u001b[38;5;241m=\u001b[39m\u001b[38;5;241m256\u001b[39m, num_heads\u001b[38;5;241m=\u001b[39m\u001b[38;5;241m4\u001b[39m, ff_dim\u001b[38;5;241m=\u001b[39m\u001b[38;5;241m4\u001b[39m, dropout\u001b[38;5;241m=\u001b[39m\u001b[38;5;241m0\u001b[39m):\n\u001b[0;32m      2\u001b[0m     \u001b[38;5;66;03m# Normalization and Attention\u001b[39;00m\n\u001b[0;32m      3\u001b[0m     x \u001b[38;5;241m=\u001b[39m layers\u001b[38;5;241m.\u001b[39mLayerNormalization(epsilon\u001b[38;5;241m=\u001b[39m\u001b[38;5;241m1e-6\u001b[39m)(inputs)\n\u001b[1;32m----> 4\u001b[0m     x \u001b[38;5;241m=\u001b[39m \u001b[43mlayers\u001b[49m\u001b[38;5;241;43m.\u001b[39;49m\u001b[43mMultiHeadAttention\u001b[49m\u001b[43m(\u001b[49m\n\u001b[0;32m      5\u001b[0m \u001b[43m        \u001b[49m\u001b[43mkey_dim\u001b[49m\u001b[38;5;241;43m=\u001b[39;49m\u001b[43mhead_size\u001b[49m\u001b[43m,\u001b[49m\u001b[43m \u001b[49m\u001b[43mnum_heads\u001b[49m\u001b[38;5;241;43m=\u001b[39;49m\u001b[43mnum_heads\u001b[49m\u001b[43m,\u001b[49m\u001b[43m \u001b[49m\u001b[43mdropout\u001b[49m\u001b[38;5;241;43m=\u001b[39;49m\u001b[43mdropout\u001b[49m\n\u001b[0;32m      6\u001b[0m \u001b[43m    \u001b[49m\u001b[43m)\u001b[49m\u001b[43m(\u001b[49m\u001b[43mx\u001b[49m\u001b[43m,\u001b[49m\u001b[43m \u001b[49m\u001b[43mx\u001b[49m\u001b[43m)\u001b[49m\n\u001b[0;32m      7\u001b[0m     x \u001b[38;5;241m=\u001b[39m layers\u001b[38;5;241m.\u001b[39mDropout(dropout)(x)\n\u001b[0;32m      8\u001b[0m     res \u001b[38;5;241m=\u001b[39m x \u001b[38;5;241m+\u001b[39m inputs\n",
      "File \u001b[1;32m~\\miniconda3\\envs\\ICNAP\\lib\\site-packages\\keras\\utils\\traceback_utils.py:67\u001b[0m, in \u001b[0;36mfilter_traceback.<locals>.error_handler\u001b[1;34m(*args, **kwargs)\u001b[0m\n\u001b[0;32m     65\u001b[0m \u001b[38;5;28;01mexcept\u001b[39;00m \u001b[38;5;167;01mException\u001b[39;00m \u001b[38;5;28;01mas\u001b[39;00m e:  \u001b[38;5;66;03m# pylint: disable=broad-except\u001b[39;00m\n\u001b[0;32m     66\u001b[0m   filtered_tb \u001b[38;5;241m=\u001b[39m _process_traceback_frames(e\u001b[38;5;241m.\u001b[39m__traceback__)\n\u001b[1;32m---> 67\u001b[0m   \u001b[38;5;28;01mraise\u001b[39;00m e\u001b[38;5;241m.\u001b[39mwith_traceback(filtered_tb) \u001b[38;5;28;01mfrom\u001b[39;00m \u001b[38;5;28mNone\u001b[39m\n\u001b[0;32m     68\u001b[0m \u001b[38;5;28;01mfinally\u001b[39;00m:\n\u001b[0;32m     69\u001b[0m   \u001b[38;5;28;01mdel\u001b[39;00m filtered_tb\n",
      "File \u001b[1;32m~\\miniconda3\\envs\\ICNAP\\lib\\site-packages\\tensorflow\\python\\framework\\ops.py:7164\u001b[0m, in \u001b[0;36mraise_from_not_ok_status\u001b[1;34m(e, name)\u001b[0m\n\u001b[0;32m   7162\u001b[0m \u001b[38;5;28;01mdef\u001b[39;00m \u001b[38;5;21mraise_from_not_ok_status\u001b[39m(e, name):\n\u001b[0;32m   7163\u001b[0m   e\u001b[38;5;241m.\u001b[39mmessage \u001b[38;5;241m+\u001b[39m\u001b[38;5;241m=\u001b[39m (\u001b[38;5;124m\"\u001b[39m\u001b[38;5;124m name: \u001b[39m\u001b[38;5;124m\"\u001b[39m \u001b[38;5;241m+\u001b[39m name \u001b[38;5;28;01mif\u001b[39;00m name \u001b[38;5;129;01mis\u001b[39;00m \u001b[38;5;129;01mnot\u001b[39;00m \u001b[38;5;28;01mNone\u001b[39;00m \u001b[38;5;28;01melse\u001b[39;00m \u001b[38;5;124m\"\u001b[39m\u001b[38;5;124m\"\u001b[39m)\n\u001b[1;32m-> 7164\u001b[0m   \u001b[38;5;28;01mraise\u001b[39;00m core\u001b[38;5;241m.\u001b[39m_status_to_exception(e) \u001b[38;5;28;01mfrom\u001b[39;00m \u001b[38;5;28mNone\u001b[39m\n",
      "\u001b[1;31mResourceExhaustedError\u001b[0m: Exception encountered when calling layer \"query\" (type EinsumDense).\n\nOOM when allocating tensor with shape[2460500,1024] and type float on /job:localhost/replica:0/task:0/device:GPU:0 by allocator GPU_0_bfc [Op:Einsum]\n\nCall arguments received by layer \"query\" (type EinsumDense):\n  • inputs=tf.Tensor(shape=(4921, 500, 1), dtype=float32)"
     ]
    }
   ],
   "source": [
    "timeseries_transform(processed_data)"
   ]
  }
 ],
 "metadata": {
  "kernelspec": {
   "display_name": "Python 3 (ipykernel)",
   "language": "python",
   "name": "python3"
  },
  "language_info": {
   "codemirror_mode": {
    "name": "ipython",
    "version": 3
   },
   "file_extension": ".py",
   "mimetype": "text/x-python",
   "name": "python",
   "nbconvert_exporter": "python",
   "pygments_lexer": "ipython3",
   "version": "3.9.12"
  }
 },
 "nbformat": 4,
 "nbformat_minor": 5
}
