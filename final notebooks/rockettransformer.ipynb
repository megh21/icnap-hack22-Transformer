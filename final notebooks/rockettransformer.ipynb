{
  "metadata": {
    "kernelspec": {
      "language": "python",
      "display_name": "Python 3",
      "name": "python3"
    },
    "language_info": {
      "name": "python",
      "version": "3.7.12",
      "mimetype": "text/x-python",
      "codemirror_mode": {
        "name": "ipython",
        "version": 3
      },
      "pygments_lexer": "ipython3",
      "nbconvert_exporter": "python",
      "file_extension": ".py"
    },
    "colab": {
      "name": "rockettransformer.ipynb",
      "provenance": []
    },
    "accelerator": "GPU"
  },
  "nbformat_minor": 0,
  "nbformat": 4,
  "cells": [
    {
      "cell_type": "code",
      "source": [
        "import tensorflow as tf\n",
        "import numpy as np\n",
        "import matplotlib.pyplot as plt\n",
        "import pandas as pd\n",
        "from sklearn.model_selection import train_test_split\n",
        "from tensorflow import keras\n",
        "from tensorflow.keras import layers\n",
        "from sklearn.preprocessing import MinMaxScaler\n",
        "scaler = MinMaxScaler(feature_range=(0,1))"
      ],
      "metadata": {
        "execution": {
          "iopub.status.busy": "2022-05-21T17:06:55.763094Z",
          "iopub.execute_input": "2022-05-21T17:06:55.763395Z",
          "iopub.status.idle": "2022-05-21T17:06:55.768835Z",
          "shell.execute_reply.started": "2022-05-21T17:06:55.763364Z",
          "shell.execute_reply": "2022-05-21T17:06:55.768003Z"
        },
        "trusted": true,
        "id": "3ZNh2jEkJcyY"
      },
      "execution_count": null,
      "outputs": []
    },
    {
      "cell_type": "code",
      "source": [
        "import pickle\n",
        "with open('data.pkl', 'rb') as f:   # google colab\n",
        "    corpus = pickle.load(f)"
      ],
      "metadata": {
        "execution": {
          "iopub.status.busy": "2022-05-21T17:06:55.780648Z",
          "iopub.execute_input": "2022-05-21T17:06:55.781805Z",
          "iopub.status.idle": "2022-05-21T17:06:55.847705Z",
          "shell.execute_reply.started": "2022-05-21T17:06:55.781748Z",
          "shell.execute_reply": "2022-05-21T17:06:55.846721Z"
        },
        "trusted": true,
        "id": "Rl0wWYUWJcye"
      },
      "execution_count": null,
      "outputs": []
    },
    {
      "cell_type": "code",
      "source": [
        "data=corpus"
      ],
      "metadata": {
        "execution": {
          "iopub.status.busy": "2022-05-21T17:06:55.849635Z",
          "iopub.execute_input": "2022-05-21T17:06:55.849959Z",
          "iopub.status.idle": "2022-05-21T17:06:55.875484Z",
          "shell.execute_reply.started": "2022-05-21T17:06:55.849916Z",
          "shell.execute_reply": "2022-05-21T17:06:55.874147Z"
        },
        "trusted": true,
        "id": "7cGz_kezJcyg"
      },
      "execution_count": null,
      "outputs": []
    },
    {
      "cell_type": "code",
      "source": [
        "data['dim_0'] = data['dim_0'].apply(lambda x: x.reshape(500,1))\n"
      ],
      "metadata": {
        "execution": {
          "iopub.status.busy": "2022-05-21T17:06:55.876893Z",
          "iopub.execute_input": "2022-05-21T17:06:55.877379Z",
          "iopub.status.idle": "2022-05-21T17:06:55.895860Z",
          "shell.execute_reply.started": "2022-05-21T17:06:55.877333Z",
          "shell.execute_reply": "2022-05-21T17:06:55.894605Z"
        },
        "trusted": true,
        "id": "yyx0S-NqJcyh"
      },
      "execution_count": null,
      "outputs": []
    },
    {
      "cell_type": "code",
      "source": [
        "X = data['dim_0']\n",
        "y = data['labels']\n",
        "y = y.astype(int)"
      ],
      "metadata": {
        "execution": {
          "iopub.status.busy": "2022-05-21T17:06:55.897503Z",
          "iopub.execute_input": "2022-05-21T17:06:55.897776Z",
          "iopub.status.idle": "2022-05-21T17:06:55.913951Z",
          "shell.execute_reply.started": "2022-05-21T17:06:55.897744Z",
          "shell.execute_reply": "2022-05-21T17:06:55.912200Z"
        },
        "trusted": true,
        "id": "gb8MlqWvJcyi"
      },
      "execution_count": null,
      "outputs": []
    },
    {
      "cell_type": "code",
      "source": [
        "data.columns"
      ],
      "metadata": {
        "execution": {
          "iopub.status.busy": "2022-05-21T17:06:55.916145Z",
          "iopub.execute_input": "2022-05-21T17:06:55.916743Z",
          "iopub.status.idle": "2022-05-21T17:06:55.930580Z",
          "shell.execute_reply.started": "2022-05-21T17:06:55.916692Z",
          "shell.execute_reply": "2022-05-21T17:06:55.929679Z"
        },
        "trusted": true,
        "colab": {
          "base_uri": "https://localhost:8080/"
        },
        "id": "K7vdnYl-Jcyj",
        "outputId": "ded4c9f7-ad43-468e-869d-d97fd60bf100"
      },
      "execution_count": null,
      "outputs": [
        {
          "output_type": "execute_result",
          "data": {
            "text/plain": [
              "Index(['dim_0', 'labels'], dtype='object')"
            ]
          },
          "metadata": {},
          "execution_count": 93
        }
      ]
    },
    {
      "cell_type": "code",
      "source": [
        "for i in range(data.shape[0]):\n",
        "    if True in np.isnan(data['dim_0'][i]):\n",
        "        print(i)"
      ],
      "metadata": {
        "execution": {
          "iopub.status.busy": "2022-05-21T17:06:55.931625Z",
          "iopub.execute_input": "2022-05-21T17:06:55.932262Z",
          "iopub.status.idle": "2022-05-21T17:06:56.010743Z",
          "shell.execute_reply.started": "2022-05-21T17:06:55.932226Z",
          "shell.execute_reply": "2022-05-21T17:06:56.009782Z"
        },
        "trusted": true,
        "id": "sEeW4J70Jcym"
      },
      "execution_count": null,
      "outputs": []
    },
    {
      "cell_type": "code",
      "source": [
        "input_x = []\n",
        "for array in X:\n",
        "    input_x.append(array)\n",
        "\n",
        "\"\"\"\n",
        "X = pd.DataFrame(df.dim_0.tolist())\n",
        "X = X.to_numpy()\n",
        "\"\"\""
      ],
      "metadata": {
        "execution": {
          "iopub.status.busy": "2022-05-21T17:06:56.012403Z",
          "iopub.execute_input": "2022-05-21T17:06:56.012669Z",
          "iopub.status.idle": "2022-05-21T17:06:56.020778Z",
          "shell.execute_reply.started": "2022-05-21T17:06:56.012636Z",
          "shell.execute_reply": "2022-05-21T17:06:56.019179Z"
        },
        "trusted": true,
        "colab": {
          "base_uri": "https://localhost:8080/",
          "height": 36
        },
        "id": "CPF0SD46Jcyo",
        "outputId": "2b3200b5-02f6-4a76-c2b0-220e708d5902"
      },
      "execution_count": null,
      "outputs": [
        {
          "output_type": "execute_result",
          "data": {
            "text/plain": [
              "'\\nX = pd.DataFrame(df.dim_0.tolist())\\nX = X.to_numpy()\\n'"
            ],
            "application/vnd.google.colaboratory.intrinsic+json": {
              "type": "string"
            }
          },
          "metadata": {},
          "execution_count": 95
        }
      ]
    },
    {
      "cell_type": "code",
      "source": [
        "input_x = np.array(input_x)"
      ],
      "metadata": {
        "execution": {
          "iopub.status.busy": "2022-05-21T17:06:56.021846Z",
          "iopub.execute_input": "2022-05-21T17:06:56.022466Z",
          "iopub.status.idle": "2022-05-21T17:06:56.051603Z",
          "shell.execute_reply.started": "2022-05-21T17:06:56.022427Z",
          "shell.execute_reply": "2022-05-21T17:06:56.050886Z"
        },
        "trusted": true,
        "id": "FudhxRhVJcyp"
      },
      "execution_count": null,
      "outputs": []
    },
    {
      "cell_type": "code",
      "source": [
        "input_x=input_x.reshape(4921, 500)"
      ],
      "metadata": {
        "execution": {
          "iopub.status.busy": "2022-05-21T17:06:56.052855Z",
          "iopub.execute_input": "2022-05-21T17:06:56.053183Z",
          "iopub.status.idle": "2022-05-21T17:06:56.057669Z",
          "shell.execute_reply.started": "2022-05-21T17:06:56.053154Z",
          "shell.execute_reply": "2022-05-21T17:06:56.056732Z"
        },
        "trusted": true,
        "id": "pN1QmJQNJcyq"
      },
      "execution_count": null,
      "outputs": []
    },
    {
      "cell_type": "code",
      "source": [
        "input_x.shape"
      ],
      "metadata": {
        "execution": {
          "iopub.status.busy": "2022-05-21T17:06:56.059494Z",
          "iopub.execute_input": "2022-05-21T17:06:56.059937Z",
          "iopub.status.idle": "2022-05-21T17:06:56.075138Z",
          "shell.execute_reply.started": "2022-05-21T17:06:56.059892Z",
          "shell.execute_reply": "2022-05-21T17:06:56.073960Z"
        },
        "trusted": true,
        "colab": {
          "base_uri": "https://localhost:8080/"
        },
        "id": "fhYYwLGQJcyr",
        "outputId": "74195c4b-10eb-47ac-cbe4-689615f8d122"
      },
      "execution_count": null,
      "outputs": [
        {
          "output_type": "execute_result",
          "data": {
            "text/plain": [
              "(4921, 500)"
            ]
          },
          "metadata": {},
          "execution_count": 98
        }
      ]
    },
    {
      "cell_type": "code",
      "source": [
        "#df1=pd.DataFrame\n",
        "input_x1=[]\n",
        "for i in range(input_x.shape[0]):\n",
        "    input_x1.append(pd.Series(input_x[i]))"
      ],
      "metadata": {
        "execution": {
          "iopub.status.busy": "2022-05-21T17:06:56.076534Z",
          "iopub.execute_input": "2022-05-21T17:06:56.077117Z",
          "iopub.status.idle": "2022-05-21T17:06:56.530023Z",
          "shell.execute_reply.started": "2022-05-21T17:06:56.077076Z",
          "shell.execute_reply": "2022-05-21T17:06:56.528629Z"
        },
        "trusted": true,
        "id": "TbEsXN3iJcyr"
      },
      "execution_count": null,
      "outputs": []
    },
    {
      "cell_type": "code",
      "source": [
        "input_x1=pd.Series(input_x1)"
      ],
      "metadata": {
        "execution": {
          "iopub.status.busy": "2022-05-21T17:06:56.531843Z",
          "iopub.execute_input": "2022-05-21T17:06:56.532163Z",
          "iopub.status.idle": "2022-05-21T17:06:56.807552Z",
          "shell.execute_reply.started": "2022-05-21T17:06:56.532118Z",
          "shell.execute_reply": "2022-05-21T17:06:56.806562Z"
        },
        "trusted": true,
        "id": "n8EZVWxLJcys"
      },
      "execution_count": null,
      "outputs": []
    },
    {
      "cell_type": "code",
      "source": [
        "input_x1.shape"
      ],
      "metadata": {
        "execution": {
          "iopub.status.busy": "2022-05-21T17:06:56.808699Z",
          "iopub.execute_input": "2022-05-21T17:06:56.808926Z",
          "iopub.status.idle": "2022-05-21T17:06:56.814795Z",
          "shell.execute_reply.started": "2022-05-21T17:06:56.808898Z",
          "shell.execute_reply": "2022-05-21T17:06:56.813448Z"
        },
        "trusted": true,
        "colab": {
          "base_uri": "https://localhost:8080/"
        },
        "id": "o0CQ48SZJcys",
        "outputId": "73621264-8490-47eb-d880-e2343f9ac798"
      },
      "execution_count": null,
      "outputs": [
        {
          "output_type": "execute_result",
          "data": {
            "text/plain": [
              "(4921,)"
            ]
          },
          "metadata": {},
          "execution_count": 101
        }
      ]
    },
    {
      "cell_type": "code",
      "source": [
        "# !pip install sktime"
      ],
      "metadata": {
        "id": "UF8-1GEeLNT3"
      },
      "execution_count": null,
      "outputs": []
    },
    {
      "cell_type": "code",
      "source": [
        "from sklearn.linear_model import RidgeClassifierCV\n",
        "from sklearn.pipeline import make_pipeline\n",
        "\n",
        "from sktime.datasets import load_arrow_head  # univariate dataset\n",
        "from sktime.datasets import load_basic_motions  # multivariate dataset\n",
        "from sktime.transformations.panel.rocket import Rocket, MiniRocket\n"
      ],
      "metadata": {
        "execution": {
          "iopub.status.busy": "2022-05-21T17:06:56.816126Z",
          "iopub.execute_input": "2022-05-21T17:06:56.816356Z",
          "iopub.status.idle": "2022-05-21T17:06:56.829958Z",
          "shell.execute_reply.started": "2022-05-21T17:06:56.816329Z",
          "shell.execute_reply": "2022-05-21T17:06:56.828818Z"
        },
        "trusted": true,
        "id": "UmZz1aNKJcyt"
      },
      "execution_count": null,
      "outputs": []
    },
    {
      "cell_type": "code",
      "source": [
        "X_train1, y_train1 = load_arrow_head(split=\"train\", return_X_y=True)\n",
        "import gc\n",
        "gc.collect()"
      ],
      "metadata": {
        "execution": {
          "iopub.status.busy": "2022-05-21T17:06:56.832194Z",
          "iopub.execute_input": "2022-05-21T17:06:56.832424Z",
          "iopub.status.idle": "2022-05-21T17:06:56.855682Z",
          "shell.execute_reply.started": "2022-05-21T17:06:56.832396Z",
          "shell.execute_reply": "2022-05-21T17:06:56.854389Z"
        },
        "trusted": true,
        "colab": {
          "base_uri": "https://localhost:8080/"
        },
        "id": "AR3CSpZ2Jcyt",
        "outputId": "16933a55-5d44-4ada-f11b-63c859fbacb5"
      },
      "execution_count": null,
      "outputs": [
        {
          "output_type": "execute_result",
          "data": {
            "text/plain": [
              "8602"
            ]
          },
          "metadata": {},
          "execution_count": 104
        }
      ]
    },
    {
      "cell_type": "code",
      "source": [
        "# s=X_train1[\"dim_0\"]"
      ],
      "metadata": {
        "execution": {
          "iopub.status.busy": "2022-05-21T17:06:56.856763Z",
          "iopub.execute_input": "2022-05-21T17:06:56.856991Z",
          "iopub.status.idle": "2022-05-21T17:06:56.868628Z",
          "shell.execute_reply.started": "2022-05-21T17:06:56.856964Z",
          "shell.execute_reply": "2022-05-21T17:06:56.867749Z"
        },
        "trusted": true,
        "id": "LdJIY3J0Jcyu"
      },
      "execution_count": null,
      "outputs": []
    },
    {
      "cell_type": "code",
      "source": [
        "# \n"
      ],
      "metadata": {
        "execution": {
          "iopub.status.busy": "2022-05-21T17:07:04.484558Z",
          "iopub.status.idle": "2022-05-21T17:07:04.485057Z",
          "shell.execute_reply.started": "2022-05-21T17:07:04.484890Z",
          "shell.execute_reply": "2022-05-21T17:07:04.484909Z"
        },
        "trusted": true,
        "id": "rB5tSMeNJcyu"
      },
      "execution_count": null,
      "outputs": []
    },
    {
      "cell_type": "code",
      "source": [
        "\n",
        "# X_test1, y_test1 = load_arrow_head(split=\"test\", return_X_y=True)"
      ],
      "metadata": {
        "execution": {
          "iopub.status.busy": "2022-05-21T17:06:56.886200Z",
          "iopub.execute_input": "2022-05-21T17:06:56.886459Z",
          "iopub.status.idle": "2022-05-21T17:06:56.949080Z",
          "shell.execute_reply.started": "2022-05-21T17:06:56.886428Z",
          "shell.execute_reply": "2022-05-21T17:06:56.948103Z"
        },
        "trusted": true,
        "id": "YwHUG6k3Jcyv"
      },
      "execution_count": null,
      "outputs": []
    },
    {
      "cell_type": "code",
      "source": [
        "type(X_train1.iloc[0])"
      ],
      "metadata": {
        "execution": {
          "iopub.status.busy": "2022-05-21T17:06:56.950585Z",
          "iopub.execute_input": "2022-05-21T17:06:56.951221Z",
          "iopub.status.idle": "2022-05-21T17:06:56.957239Z",
          "shell.execute_reply.started": "2022-05-21T17:06:56.951182Z",
          "shell.execute_reply": "2022-05-21T17:06:56.956336Z"
        },
        "trusted": true,
        "colab": {
          "base_uri": "https://localhost:8080/"
        },
        "id": "8AGGkIdGJcyv",
        "outputId": "f6fda318-e631-47eb-8cc0-d4e5f55a830b"
      },
      "execution_count": null,
      "outputs": [
        {
          "output_type": "execute_result",
          "data": {
            "text/plain": [
              "pandas.core.series.Series"
            ]
          },
          "metadata": {},
          "execution_count": 106
        }
      ]
    },
    {
      "cell_type": "code",
      "source": [
        "test_time_series=input_x[0]"
      ],
      "metadata": {
        "jupyter": {
          "source_hidden": true
        },
        "execution": {
          "iopub.status.busy": "2022-05-21T17:06:56.958304Z",
          "iopub.execute_input": "2022-05-21T17:06:56.959071Z",
          "iopub.status.idle": "2022-05-21T17:06:56.971286Z",
          "shell.execute_reply.started": "2022-05-21T17:06:56.959039Z",
          "shell.execute_reply": "2022-05-21T17:06:56.970163Z"
        },
        "trusted": true,
        "id": "_G2zkyn1Jcyv"
      },
      "execution_count": null,
      "outputs": []
    },
    {
      "cell_type": "code",
      "source": [
        "# x_train=x_train.reshape(3936, 500)"
      ],
      "metadata": {
        "execution": {
          "iopub.status.busy": "2022-05-21T17:06:56.972468Z",
          "iopub.execute_input": "2022-05-21T17:06:56.972815Z",
          "iopub.status.idle": "2022-05-21T17:06:56.982985Z",
          "shell.execute_reply.started": "2022-05-21T17:06:56.972780Z",
          "shell.execute_reply": "2022-05-21T17:06:56.982298Z"
        },
        "trusted": true,
        "id": "ONc0pN48Jcyw"
      },
      "execution_count": null,
      "outputs": []
    },
    {
      "cell_type": "code",
      "source": [
        "input_x1=pd.DataFrame(input_x1)"
      ],
      "metadata": {
        "execution": {
          "iopub.status.busy": "2022-05-21T17:06:56.984317Z",
          "iopub.execute_input": "2022-05-21T17:06:56.984539Z",
          "iopub.status.idle": "2022-05-21T17:06:56.997846Z",
          "shell.execute_reply.started": "2022-05-21T17:06:56.984492Z",
          "shell.execute_reply": "2022-05-21T17:06:56.997094Z"
        },
        "trusted": true,
        "id": "OqSsNajeJcyw"
      },
      "execution_count": null,
      "outputs": []
    },
    {
      "cell_type": "code",
      "source": [
        "x_train,x_test,y_train,y_test = train_test_split(input_x1,y, test_size=0.2, random_state=42, stratify=y)"
      ],
      "metadata": {
        "execution": {
          "iopub.status.busy": "2022-05-21T17:06:56.998987Z",
          "iopub.execute_input": "2022-05-21T17:06:56.999237Z",
          "iopub.status.idle": "2022-05-21T17:06:57.020487Z",
          "shell.execute_reply.started": "2022-05-21T17:06:56.999206Z",
          "shell.execute_reply": "2022-05-21T17:06:57.019424Z"
        },
        "trusted": true,
        "id": "QmboG1bTJcyw"
      },
      "execution_count": null,
      "outputs": []
    },
    {
      "cell_type": "code",
      "source": [
        "(x_train.shape)"
      ],
      "metadata": {
        "execution": {
          "iopub.status.busy": "2022-05-21T17:06:57.022605Z",
          "iopub.execute_input": "2022-05-21T17:06:57.023549Z",
          "iopub.status.idle": "2022-05-21T17:06:57.032082Z",
          "shell.execute_reply.started": "2022-05-21T17:06:57.023462Z",
          "shell.execute_reply": "2022-05-21T17:06:57.031135Z"
        },
        "trusted": true,
        "colab": {
          "base_uri": "https://localhost:8080/"
        },
        "id": "gTihaM7ZJcyx",
        "outputId": "c34eee5b-4ad4-46b9-c561-79f3ac174c91"
      },
      "execution_count": null,
      "outputs": [
        {
          "output_type": "execute_result",
          "data": {
            "text/plain": [
              "(3936, 1)"
            ]
          },
          "metadata": {},
          "execution_count": 110
        }
      ]
    },
    {
      "cell_type": "code",
      "source": [
        "# x_train = pd.DataFrame(x_train)\n",
        "#x_test = pd.DataFrame(x_test)"
      ],
      "metadata": {
        "execution": {
          "iopub.status.busy": "2022-05-21T17:06:57.033544Z",
          "iopub.execute_input": "2022-05-21T17:06:57.033867Z",
          "iopub.status.idle": "2022-05-21T17:06:57.044476Z",
          "shell.execute_reply.started": "2022-05-21T17:06:57.033824Z",
          "shell.execute_reply": "2022-05-21T17:06:57.043596Z"
        },
        "trusted": true,
        "id": "eXsg731RJcyx"
      },
      "execution_count": null,
      "outputs": []
    },
    {
      "cell_type": "code",
      "source": [
        "import gc\n",
        "gc.collect()"
      ],
      "metadata": {
        "colab": {
          "base_uri": "https://localhost:8080/"
        },
        "id": "yi1Su4bzL0zH",
        "outputId": "8b108651-ed7e-4b31-ec0e-6674b74113bc"
      },
      "execution_count": null,
      "outputs": [
        {
          "output_type": "execute_result",
          "data": {
            "text/plain": [
              "176"
            ]
          },
          "metadata": {},
          "execution_count": 111
        }
      ]
    },
    {
      "cell_type": "code",
      "source": [
        "rocket = MiniRocket(num_kernels=500)  # by default, ROCKET uses 10,000 kernels\n",
        "rocket.fit(x_train)\n",
        "X_train_transform = rocket.transform(x_train)"
      ],
      "metadata": {
        "execution": {
          "iopub.status.busy": "2022-05-21T17:07:11.008136Z",
          "iopub.execute_input": "2022-05-21T17:07:11.008666Z",
          "iopub.status.idle": "2022-05-21T17:08:25.274490Z",
          "shell.execute_reply.started": "2022-05-21T17:07:11.008618Z",
          "shell.execute_reply": "2022-05-21T17:08:25.273394Z"
        },
        "trusted": true,
        "id": "-HxKAtc7Jcyx"
      },
      "execution_count": null,
      "outputs": []
    },
    {
      "cell_type": "code",
      "source": [
        "print(X_train_transform.shape)\n",
        "X_train_transform_temp=np.expand_dims(np.array(X_train_transform), axis=2)\n",
        "X_train_transform_temp.shape\n"
      ],
      "metadata": {
        "execution": {
          "iopub.status.busy": "2022-05-21T17:10:24.836977Z",
          "iopub.execute_input": "2022-05-21T17:10:24.837292Z",
          "iopub.status.idle": "2022-05-21T17:10:25.184913Z",
          "shell.execute_reply.started": "2022-05-21T17:10:24.837260Z",
          "shell.execute_reply": "2022-05-21T17:10:25.183941Z"
        },
        "trusted": true,
        "colab": {
          "base_uri": "https://localhost:8080/"
        },
        "id": "ABswKEBqJcyx",
        "outputId": "4a350412-f129-43ef-b9ca-3701258f0b41"
      },
      "execution_count": null,
      "outputs": [
        {
          "output_type": "stream",
          "name": "stdout",
          "text": [
            "(3936, 420)\n"
          ]
        },
        {
          "output_type": "execute_result",
          "data": {
            "text/plain": [
              "(3936, 420, 1)"
            ]
          },
          "metadata": {},
          "execution_count": 113
        }
      ]
    },
    {
      "cell_type": "code",
      "source": [
        "def normalization(X_train, X_test):#, X_val\n",
        "    scaler = MinMaxScaler(feature_range=(0,1))\n",
        "    X_train = np.reshape(X_train, (-1,X_train_transform_temp.shape[1]))\n",
        "    #X_val = np.reshape(X_val, (-1,X_train_transform_temp.shape[1]))\n",
        "    X_test = np.reshape(X_test, (-1,X_train_transform_temp.shape[1]))\n",
        "    \n",
        "    X_train = scaler.fit_transform(X_train)\n",
        "    #X_val = scaler.transform(X_val)\n",
        "    X_test = scaler.transform(X_test)\n",
        "    \n",
        "    return np.reshape(X_train, (-1,X_train_transform_temp.shape[1],1)), np.reshape(X_test, (-1,X_train_transform_temp.shape[1],1))#, np.reshape(X_val, (-1,X_train_transform_temp.shape[1],1))"
      ],
      "metadata": {
        "id": "U_vItq5PUrdY"
      },
      "execution_count": null,
      "outputs": []
    },
    {
      "cell_type": "code",
      "source": [
        "X_train_transform_temp,X_test_transform_temp=normalization(X_train_transform_temp,X_train_transform_temp)"
      ],
      "metadata": {
        "id": "1Yz4w4VeVOQr"
      },
      "execution_count": null,
      "outputs": []
    },
    {
      "cell_type": "code",
      "source": [
        "type(X_train_transform_temp)"
      ],
      "metadata": {
        "colab": {
          "base_uri": "https://localhost:8080/"
        },
        "id": "Oo8pS9yBUK6y",
        "outputId": "e49d7088-bdba-43e7-890a-e765c044ec98"
      },
      "execution_count": null,
      "outputs": [
        {
          "output_type": "execute_result",
          "data": {
            "text/plain": [
              "numpy.ndarray"
            ]
          },
          "metadata": {},
          "execution_count": 116
        }
      ]
    },
    {
      "cell_type": "code",
      "source": [
        "# plt.plot(X_train_transform_temp[0][:1000])"
      ],
      "metadata": {
        "execution": {
          "iopub.status.busy": "2022-05-21T17:10:34.471951Z",
          "iopub.execute_input": "2022-05-21T17:10:34.472257Z",
          "iopub.status.idle": "2022-05-21T17:10:34.476535Z",
          "shell.execute_reply.started": "2022-05-21T17:10:34.472226Z",
          "shell.execute_reply": "2022-05-21T17:10:34.475159Z"
        },
        "trusted": true,
        "id": "dnaSLPo_Jcyx"
      },
      "execution_count": null,
      "outputs": []
    },
    {
      "cell_type": "code",
      "source": [
        "classifier = RidgeClassifierCV(alphas=np.logspace(-3, 3, 10), normalize=True)\n",
        "classifier.fit(X_train_transform, y_train)"
      ],
      "metadata": {
        "execution": {
          "iopub.status.busy": "2022-05-21T17:07:04.451029Z",
          "iopub.status.idle": "2022-05-21T17:07:04.451373Z",
          "shell.execute_reply.started": "2022-05-21T17:07:04.451200Z",
          "shell.execute_reply": "2022-05-21T17:07:04.451223Z"
        },
        "trusted": true,
        "colab": {
          "base_uri": "https://localhost:8080/"
        },
        "id": "h51ZKEhQJcyy",
        "outputId": "6c00cc0f-8e02-4429-bbe0-634ff63fce6a"
      },
      "execution_count": null,
      "outputs": [
        {
          "output_type": "stream",
          "name": "stderr",
          "text": [
            "/usr/local/lib/python3.7/dist-packages/sklearn/linear_model/_base.py:145: FutureWarning: 'normalize' was deprecated in version 1.0 and will be removed in 1.2.\n",
            "If you wish to scale the data, use Pipeline with a StandardScaler in a preprocessing stage. To reproduce the previous behavior:\n",
            "\n",
            "from sklearn.pipeline import make_pipeline\n",
            "\n",
            "model = make_pipeline(StandardScaler(with_mean=False), _RidgeGCV())\n",
            "\n",
            "If you wish to pass a sample_weight parameter, you need to pass it as a fit parameter to each step of the pipeline as follows:\n",
            "\n",
            "kwargs = {s[0] + '__sample_weight': sample_weight for s in model.steps}\n",
            "model.fit(X, y, **kwargs)\n",
            "\n",
            "\n",
            "  FutureWarning,\n"
          ]
        },
        {
          "output_type": "execute_result",
          "data": {
            "text/plain": [
              "RidgeClassifierCV(alphas=array([1.00000000e-03, 4.64158883e-03, 2.15443469e-02, 1.00000000e-01,\n",
              "       4.64158883e-01, 2.15443469e+00, 1.00000000e+01, 4.64158883e+01,\n",
              "       2.15443469e+02, 1.00000000e+03]),\n",
              "                  normalize=True)"
            ]
          },
          "metadata": {},
          "execution_count": 122
        }
      ]
    },
    {
      "cell_type": "code",
      "source": [
        "\n",
        "X_test_transform = rocket.transform(x_test)"
      ],
      "metadata": {
        "execution": {
          "iopub.status.busy": "2022-05-21T17:07:04.452691Z",
          "iopub.status.idle": "2022-05-21T17:07:04.453010Z",
          "shell.execute_reply.started": "2022-05-21T17:07:04.452846Z",
          "shell.execute_reply": "2022-05-21T17:07:04.452867Z"
        },
        "trusted": true,
        "id": "8V1yRLBzJcyy"
      },
      "execution_count": null,
      "outputs": []
    },
    {
      "cell_type": "code",
      "source": [
        "classifier.score(X_test_transform, y_test)"
      ],
      "metadata": {
        "execution": {
          "iopub.status.busy": "2022-05-21T17:07:04.454331Z",
          "iopub.status.idle": "2022-05-21T17:07:04.454700Z",
          "shell.execute_reply.started": "2022-05-21T17:07:04.454490Z",
          "shell.execute_reply": "2022-05-21T17:07:04.454539Z"
        },
        "trusted": true,
        "colab": {
          "base_uri": "https://localhost:8080/"
        },
        "id": "tqZGH01jJcyy",
        "outputId": "b738f68f-83ee-4023-e3c8-e63e7d763ae7"
      },
      "execution_count": null,
      "outputs": [
        {
          "output_type": "execute_result",
          "data": {
            "text/plain": [
              "0.9258883248730965"
            ]
          },
          "metadata": {},
          "execution_count": 124
        }
      ]
    },
    {
      "cell_type": "code",
      "source": [
        "y_train[y_train == -1] = 0\n",
        "y_test[y_test == -1] = 0\n",
        "n_classes = len(np.unique(y_train))"
      ],
      "metadata": {
        "execution": {
          "iopub.status.busy": "2022-05-21T17:20:44.080756Z",
          "iopub.execute_input": "2022-05-21T17:20:44.081302Z",
          "iopub.status.idle": "2022-05-21T17:20:44.090673Z",
          "shell.execute_reply.started": "2022-05-21T17:20:44.081248Z",
          "shell.execute_reply": "2022-05-21T17:20:44.089662Z"
        },
        "trusted": true,
        "id": "_cwTsNxdJcyy"
      },
      "execution_count": null,
      "outputs": []
    },
    {
      "cell_type": "code",
      "source": [
        "def transformer_encoder(inputs, head_size, num_heads, ff_dim, dropout=0):\n",
        "    # Normalization and Attention\n",
        "    #x = layers.LayerNormalization(epsilon=1e-6)(inputs)\n",
        "    x = layers.MultiHeadAttention(\n",
        "        key_dim=head_size, num_heads=num_heads, dropout=dropout\n",
        "    )(inputs,inputs)\n",
        "    x = layers.Dropout(dropout)(x)\n",
        "    res = x + inputs\n",
        "\n",
        "    # Feed Forward Part\n",
        "    x = layers.LayerNormalization(epsilon=1e-6)(res)\n",
        "    x = layers.Conv1D(filters=ff_dim, kernel_size=1, activation=\"relu\")(x)\n",
        "    x = layers.Dropout(dropout)(x)\n",
        "    x = layers.Conv1D(filters=inputs.shape[-1], kernel_size=1)(x)\n",
        "    return x + res"
      ],
      "metadata": {
        "execution": {
          "iopub.status.busy": "2022-05-21T17:20:47.634566Z",
          "iopub.execute_input": "2022-05-21T17:20:47.634864Z",
          "iopub.status.idle": "2022-05-21T17:20:47.644190Z",
          "shell.execute_reply.started": "2022-05-21T17:20:47.634830Z",
          "shell.execute_reply": "2022-05-21T17:20:47.643188Z"
        },
        "trusted": true,
        "id": "J7zDQh7dJcyz"
      },
      "execution_count": null,
      "outputs": []
    },
    {
      "cell_type": "code",
      "source": [
        "def build_model(\n",
        "    input_shape,\n",
        "    head_size,\n",
        "    num_heads,\n",
        "    ff_dim,\n",
        "    num_transformer_blocks,\n",
        "    mlp_units,\n",
        "    dropout=0,\n",
        "    mlp_dropout=0,\n",
        "):\n",
        "    inputs = keras.Input(shape=input_shape)\n",
        "    x = inputs\n",
        "    for _ in range(num_transformer_blocks):\n",
        "        x = transformer_encoder(x, head_size, num_heads, ff_dim, dropout)\n",
        "\n",
        "    x = layers.GlobalAveragePooling1D(data_format=\"channels_first\")(x)\n",
        "    for dim in mlp_units:\n",
        "        x = layers.Dense(dim, activation=\"relu\")(x)\n",
        "        x = layers.Dropout(mlp_dropout)(x)\n",
        "    outputs = layers.Dense(n_classes, activation=\"softmax\")(x)\n",
        "    return keras.Model(inputs, outputs)"
      ],
      "metadata": {
        "execution": {
          "iopub.status.busy": "2022-05-21T17:20:49.115724Z",
          "iopub.execute_input": "2022-05-21T17:20:49.116079Z",
          "iopub.status.idle": "2022-05-21T17:20:49.122838Z",
          "shell.execute_reply.started": "2022-05-21T17:20:49.116043Z",
          "shell.execute_reply": "2022-05-21T17:20:49.121897Z"
        },
        "trusted": true,
        "id": "mH-V0rHLJcyz"
      },
      "execution_count": null,
      "outputs": []
    },
    {
      "cell_type": "code",
      "source": [
        "X_train_transform_temp.shape[1:]"
      ],
      "metadata": {
        "execution": {
          "iopub.status.busy": "2022-05-21T17:20:51.505449Z",
          "iopub.execute_input": "2022-05-21T17:20:51.506058Z",
          "iopub.status.idle": "2022-05-21T17:20:51.511085Z",
          "shell.execute_reply.started": "2022-05-21T17:20:51.506017Z",
          "shell.execute_reply": "2022-05-21T17:20:51.510551Z"
        },
        "trusted": true,
        "colab": {
          "base_uri": "https://localhost:8080/"
        },
        "id": "kCtGrVFhJcyz",
        "outputId": "7218cf65-d556-4485-fa41-8ab7376188f4"
      },
      "execution_count": null,
      "outputs": [
        {
          "output_type": "execute_result",
          "data": {
            "text/plain": [
              "(420, 1)"
            ]
          },
          "metadata": {},
          "execution_count": 127
        }
      ]
    },
    {
      "cell_type": "code",
      "source": [
        "import gc\n",
        "gc.collect()"
      ],
      "metadata": {
        "execution": {
          "iopub.status.busy": "2022-05-21T17:20:52.297533Z",
          "iopub.execute_input": "2022-05-21T17:20:52.298432Z",
          "iopub.status.idle": "2022-05-21T17:20:52.550785Z",
          "shell.execute_reply.started": "2022-05-21T17:20:52.298379Z",
          "shell.execute_reply": "2022-05-21T17:20:52.549995Z"
        },
        "trusted": true,
        "colab": {
          "base_uri": "https://localhost:8080/"
        },
        "id": "TnUIkQQmJcy0",
        "outputId": "81346ac5-0adb-4551-8ce7-b01760bda110"
      },
      "execution_count": null,
      "outputs": [
        {
          "output_type": "execute_result",
          "data": {
            "text/plain": [
              "1649"
            ]
          },
          "metadata": {},
          "execution_count": 128
        }
      ]
    },
    {
      "cell_type": "code",
      "source": [
        "input_shape = X_train_transform_temp.shape[1:]\n",
        "\n",
        "model = build_model(\n",
        "    input_shape,\n",
        "    head_size=256,\n",
        "    num_heads=4,\n",
        "    ff_dim=4,\n",
        "    num_transformer_blocks=4,\n",
        "    mlp_units=[128],\n",
        "    mlp_dropout=0.4,\n",
        "    dropout=0.25,\n",
        ")\n",
        "\n",
        "model.compile(\n",
        "    loss=\"sparse_categorical_crossentropy\",\n",
        "    optimizer=keras.optimizers.Adam(learning_rate=1e-4),\n",
        "    metrics=[\"sparse_categorical_accuracy\"],\n",
        ")\n",
        "model.summary()\n",
        "\n",
        "callbacks = [keras.callbacks.EarlyStopping(patience=10, restore_best_weights=True)]\n",
        "\n",
        "model.fit(\n",
        "    X_train_transform_temp,\n",
        "    y_train,\n",
        "    validation_split=0.2,\n",
        "    epochs=100,\n",
        "    batch_size=64,\n",
        "    callbacks=callbacks,\n",
        ")\n",
        "\n",
        "model.evaluate(x_test, y_test, verbose=1)"
      ],
      "metadata": {
        "execution": {
          "iopub.status.busy": "2022-05-21T17:20:56.504980Z",
          "iopub.execute_input": "2022-05-21T17:20:56.505575Z",
          "iopub.status.idle": "2022-05-21T17:21:21.397400Z",
          "shell.execute_reply.started": "2022-05-21T17:20:56.505466Z",
          "shell.execute_reply": "2022-05-21T17:21:21.396063Z"
        },
        "trusted": true,
        "colab": {
          "base_uri": "https://localhost:8080/",
          "height": 1000
        },
        "id": "P0r0V8ilJcy1",
        "outputId": "fba8042d-d797-4695-d530-b8a5f8eaf124"
      },
      "execution_count": null,
      "outputs": [
        {
          "output_type": "stream",
          "name": "stdout",
          "text": [
            "Model: \"model_3\"\n",
            "__________________________________________________________________________________________________\n",
            " Layer (type)                   Output Shape         Param #     Connected to                     \n",
            "==================================================================================================\n",
            " input_4 (InputLayer)           [(None, 420, 1)]     0           []                               \n",
            "                                                                                                  \n",
            " multi_head_attention_12 (Multi  (None, 420, 1)      7169        ['input_4[0][0]',                \n",
            " HeadAttention)                                                   'input_4[0][0]']                \n",
            "                                                                                                  \n",
            " dropout_27 (Dropout)           (None, 420, 1)       0           ['multi_head_attention_12[0][0]']\n",
            "                                                                                                  \n",
            " tf.__operators__.add_24 (TFOpL  (None, 420, 1)      0           ['dropout_27[0][0]',             \n",
            " ambda)                                                           'input_4[0][0]']                \n",
            "                                                                                                  \n",
            " layer_normalization_20 (LayerN  (None, 420, 1)      2           ['tf.__operators__.add_24[0][0]']\n",
            " ormalization)                                                                                    \n",
            "                                                                                                  \n",
            " conv1d_24 (Conv1D)             (None, 420, 4)       8           ['layer_normalization_20[0][0]'] \n",
            "                                                                                                  \n",
            " dropout_28 (Dropout)           (None, 420, 4)       0           ['conv1d_24[0][0]']              \n",
            "                                                                                                  \n",
            " conv1d_25 (Conv1D)             (None, 420, 1)       5           ['dropout_28[0][0]']             \n",
            "                                                                                                  \n",
            " tf.__operators__.add_25 (TFOpL  (None, 420, 1)      0           ['conv1d_25[0][0]',              \n",
            " ambda)                                                           'tf.__operators__.add_24[0][0]']\n",
            "                                                                                                  \n",
            " multi_head_attention_13 (Multi  (None, 420, 1)      7169        ['tf.__operators__.add_25[0][0]',\n",
            " HeadAttention)                                                   'tf.__operators__.add_25[0][0]']\n",
            "                                                                                                  \n",
            " dropout_29 (Dropout)           (None, 420, 1)       0           ['multi_head_attention_13[0][0]']\n",
            "                                                                                                  \n",
            " tf.__operators__.add_26 (TFOpL  (None, 420, 1)      0           ['dropout_29[0][0]',             \n",
            " ambda)                                                           'tf.__operators__.add_25[0][0]']\n",
            "                                                                                                  \n",
            " layer_normalization_21 (LayerN  (None, 420, 1)      2           ['tf.__operators__.add_26[0][0]']\n",
            " ormalization)                                                                                    \n",
            "                                                                                                  \n",
            " conv1d_26 (Conv1D)             (None, 420, 4)       8           ['layer_normalization_21[0][0]'] \n",
            "                                                                                                  \n",
            " dropout_30 (Dropout)           (None, 420, 4)       0           ['conv1d_26[0][0]']              \n",
            "                                                                                                  \n",
            " conv1d_27 (Conv1D)             (None, 420, 1)       5           ['dropout_30[0][0]']             \n",
            "                                                                                                  \n",
            " tf.__operators__.add_27 (TFOpL  (None, 420, 1)      0           ['conv1d_27[0][0]',              \n",
            " ambda)                                                           'tf.__operators__.add_26[0][0]']\n",
            "                                                                                                  \n",
            " multi_head_attention_14 (Multi  (None, 420, 1)      7169        ['tf.__operators__.add_27[0][0]',\n",
            " HeadAttention)                                                   'tf.__operators__.add_27[0][0]']\n",
            "                                                                                                  \n",
            " dropout_31 (Dropout)           (None, 420, 1)       0           ['multi_head_attention_14[0][0]']\n",
            "                                                                                                  \n",
            " tf.__operators__.add_28 (TFOpL  (None, 420, 1)      0           ['dropout_31[0][0]',             \n",
            " ambda)                                                           'tf.__operators__.add_27[0][0]']\n",
            "                                                                                                  \n",
            " layer_normalization_22 (LayerN  (None, 420, 1)      2           ['tf.__operators__.add_28[0][0]']\n",
            " ormalization)                                                                                    \n",
            "                                                                                                  \n",
            " conv1d_28 (Conv1D)             (None, 420, 4)       8           ['layer_normalization_22[0][0]'] \n",
            "                                                                                                  \n",
            " dropout_32 (Dropout)           (None, 420, 4)       0           ['conv1d_28[0][0]']              \n",
            "                                                                                                  \n",
            " conv1d_29 (Conv1D)             (None, 420, 1)       5           ['dropout_32[0][0]']             \n",
            "                                                                                                  \n",
            " tf.__operators__.add_29 (TFOpL  (None, 420, 1)      0           ['conv1d_29[0][0]',              \n",
            " ambda)                                                           'tf.__operators__.add_28[0][0]']\n",
            "                                                                                                  \n",
            " multi_head_attention_15 (Multi  (None, 420, 1)      7169        ['tf.__operators__.add_29[0][0]',\n",
            " HeadAttention)                                                   'tf.__operators__.add_29[0][0]']\n",
            "                                                                                                  \n",
            " dropout_33 (Dropout)           (None, 420, 1)       0           ['multi_head_attention_15[0][0]']\n",
            "                                                                                                  \n",
            " tf.__operators__.add_30 (TFOpL  (None, 420, 1)      0           ['dropout_33[0][0]',             \n",
            " ambda)                                                           'tf.__operators__.add_29[0][0]']\n",
            "                                                                                                  \n",
            " layer_normalization_23 (LayerN  (None, 420, 1)      2           ['tf.__operators__.add_30[0][0]']\n",
            " ormalization)                                                                                    \n",
            "                                                                                                  \n",
            " conv1d_30 (Conv1D)             (None, 420, 4)       8           ['layer_normalization_23[0][0]'] \n",
            "                                                                                                  \n",
            " dropout_34 (Dropout)           (None, 420, 4)       0           ['conv1d_30[0][0]']              \n",
            "                                                                                                  \n",
            " conv1d_31 (Conv1D)             (None, 420, 1)       5           ['dropout_34[0][0]']             \n",
            "                                                                                                  \n",
            " tf.__operators__.add_31 (TFOpL  (None, 420, 1)      0           ['conv1d_31[0][0]',              \n",
            " ambda)                                                           'tf.__operators__.add_30[0][0]']\n",
            "                                                                                                  \n",
            " global_average_pooling1d_3 (Gl  (None, 420)         0           ['tf.__operators__.add_31[0][0]']\n",
            " obalAveragePooling1D)                                                                            \n",
            "                                                                                                  \n",
            " dense_6 (Dense)                (None, 128)          53888       ['global_average_pooling1d_3[0][0\n",
            "                                                                 ]']                              \n",
            "                                                                                                  \n",
            " dropout_35 (Dropout)           (None, 128)          0           ['dense_6[0][0]']                \n",
            "                                                                                                  \n",
            " dense_7 (Dense)                (None, 2)            258         ['dropout_35[0][0]']             \n",
            "                                                                                                  \n",
            "==================================================================================================\n",
            "Total params: 82,882\n",
            "Trainable params: 82,882\n",
            "Non-trainable params: 0\n",
            "__________________________________________________________________________________________________\n",
            "Epoch 1/100\n",
            "50/50 [==============================] - 53s 967ms/step - loss: 0.6799 - sparse_categorical_accuracy: 0.5820 - val_loss: 0.6139 - val_sparse_categorical_accuracy: 0.7335\n",
            "Epoch 2/100\n",
            "50/50 [==============================] - 48s 955ms/step - loss: 0.5947 - sparse_categorical_accuracy: 0.6903 - val_loss: 0.5288 - val_sparse_categorical_accuracy: 0.8350\n",
            "Epoch 3/100\n",
            "50/50 [==============================] - 48s 954ms/step - loss: 0.5103 - sparse_categorical_accuracy: 0.7824 - val_loss: 0.4671 - val_sparse_categorical_accuracy: 0.8579\n",
            "Epoch 4/100\n",
            "50/50 [==============================] - 48s 954ms/step - loss: 0.4447 - sparse_categorical_accuracy: 0.8294 - val_loss: 0.4188 - val_sparse_categorical_accuracy: 0.8706\n",
            "Epoch 5/100\n",
            "50/50 [==============================] - 48s 954ms/step - loss: 0.3969 - sparse_categorical_accuracy: 0.8590 - val_loss: 0.3668 - val_sparse_categorical_accuracy: 0.8706\n",
            "Epoch 6/100\n",
            "50/50 [==============================] - 48s 954ms/step - loss: 0.3643 - sparse_categorical_accuracy: 0.8729 - val_loss: 0.3372 - val_sparse_categorical_accuracy: 0.8820\n",
            "Epoch 7/100\n",
            "50/50 [==============================] - 48s 954ms/step - loss: 0.3374 - sparse_categorical_accuracy: 0.8793 - val_loss: 0.3245 - val_sparse_categorical_accuracy: 0.8997\n",
            "Epoch 8/100\n",
            "50/50 [==============================] - 48s 954ms/step - loss: 0.3121 - sparse_categorical_accuracy: 0.8920 - val_loss: 0.2996 - val_sparse_categorical_accuracy: 0.8845\n",
            "Epoch 9/100\n",
            "50/50 [==============================] - 48s 954ms/step - loss: 0.2947 - sparse_categorical_accuracy: 0.8910 - val_loss: 0.2886 - val_sparse_categorical_accuracy: 0.8858\n",
            "Epoch 10/100\n",
            "50/50 [==============================] - 48s 954ms/step - loss: 0.2805 - sparse_categorical_accuracy: 0.9003 - val_loss: 0.2837 - val_sparse_categorical_accuracy: 0.8985\n",
            "Epoch 11/100\n",
            "50/50 [==============================] - 48s 954ms/step - loss: 0.2691 - sparse_categorical_accuracy: 0.9066 - val_loss: 0.2691 - val_sparse_categorical_accuracy: 0.9048\n",
            "Epoch 12/100\n",
            "50/50 [==============================] - 48s 953ms/step - loss: 0.2618 - sparse_categorical_accuracy: 0.9063 - val_loss: 0.2628 - val_sparse_categorical_accuracy: 0.9061\n",
            "Epoch 13/100\n",
            "50/50 [==============================] - 48s 954ms/step - loss: 0.2554 - sparse_categorical_accuracy: 0.9066 - val_loss: 0.2601 - val_sparse_categorical_accuracy: 0.9048\n",
            "Epoch 14/100\n",
            "50/50 [==============================] - 48s 954ms/step - loss: 0.2440 - sparse_categorical_accuracy: 0.9117 - val_loss: 0.2488 - val_sparse_categorical_accuracy: 0.9023\n",
            "Epoch 15/100\n",
            "50/50 [==============================] - 48s 954ms/step - loss: 0.2416 - sparse_categorical_accuracy: 0.9101 - val_loss: 0.2557 - val_sparse_categorical_accuracy: 0.9086\n",
            "Epoch 16/100\n",
            "50/50 [==============================] - 48s 954ms/step - loss: 0.2339 - sparse_categorical_accuracy: 0.9139 - val_loss: 0.2408 - val_sparse_categorical_accuracy: 0.8997\n",
            "Epoch 17/100\n",
            "50/50 [==============================] - 48s 954ms/step - loss: 0.2244 - sparse_categorical_accuracy: 0.9187 - val_loss: 0.2337 - val_sparse_categorical_accuracy: 0.9023\n",
            "Epoch 18/100\n",
            "50/50 [==============================] - 48s 954ms/step - loss: 0.2284 - sparse_categorical_accuracy: 0.9152 - val_loss: 0.2328 - val_sparse_categorical_accuracy: 0.9086\n",
            "Epoch 19/100\n",
            "50/50 [==============================] - 48s 954ms/step - loss: 0.2152 - sparse_categorical_accuracy: 0.9171 - val_loss: 0.2266 - val_sparse_categorical_accuracy: 0.9086\n",
            "Epoch 20/100\n",
            "50/50 [==============================] - 48s 954ms/step - loss: 0.2121 - sparse_categorical_accuracy: 0.9292 - val_loss: 0.2242 - val_sparse_categorical_accuracy: 0.9137\n",
            "Epoch 21/100\n",
            "50/50 [==============================] - 48s 953ms/step - loss: 0.2111 - sparse_categorical_accuracy: 0.9187 - val_loss: 0.2243 - val_sparse_categorical_accuracy: 0.9150\n",
            "Epoch 22/100\n",
            "50/50 [==============================] - 49s 978ms/step - loss: 0.2054 - sparse_categorical_accuracy: 0.9257 - val_loss: 0.2187 - val_sparse_categorical_accuracy: 0.9048\n",
            "Epoch 23/100\n",
            "50/50 [==============================] - 48s 954ms/step - loss: 0.2052 - sparse_categorical_accuracy: 0.9199 - val_loss: 0.2144 - val_sparse_categorical_accuracy: 0.9137\n",
            "Epoch 24/100\n",
            "50/50 [==============================] - 48s 953ms/step - loss: 0.2006 - sparse_categorical_accuracy: 0.9177 - val_loss: 0.2127 - val_sparse_categorical_accuracy: 0.9201\n",
            "Epoch 25/100\n",
            "50/50 [==============================] - 48s 953ms/step - loss: 0.1988 - sparse_categorical_accuracy: 0.9228 - val_loss: 0.2132 - val_sparse_categorical_accuracy: 0.9112\n",
            "Epoch 26/100\n",
            "50/50 [==============================] - 48s 953ms/step - loss: 0.1927 - sparse_categorical_accuracy: 0.9247 - val_loss: 0.2105 - val_sparse_categorical_accuracy: 0.9099\n",
            "Epoch 27/100\n",
            "50/50 [==============================] - 48s 953ms/step - loss: 0.1963 - sparse_categorical_accuracy: 0.9215 - val_loss: 0.2084 - val_sparse_categorical_accuracy: 0.9188\n",
            "Epoch 28/100\n",
            "50/50 [==============================] - 48s 954ms/step - loss: 0.1878 - sparse_categorical_accuracy: 0.9285 - val_loss: 0.2068 - val_sparse_categorical_accuracy: 0.9074\n",
            "Epoch 29/100\n",
            "50/50 [==============================] - 48s 953ms/step - loss: 0.1887 - sparse_categorical_accuracy: 0.9273 - val_loss: 0.2059 - val_sparse_categorical_accuracy: 0.9175\n",
            "Epoch 30/100\n",
            "50/50 [==============================] - 48s 953ms/step - loss: 0.1846 - sparse_categorical_accuracy: 0.9304 - val_loss: 0.2054 - val_sparse_categorical_accuracy: 0.9124\n",
            "Epoch 31/100\n",
            "50/50 [==============================] - 48s 953ms/step - loss: 0.1847 - sparse_categorical_accuracy: 0.9279 - val_loss: 0.2070 - val_sparse_categorical_accuracy: 0.9162\n",
            "Epoch 32/100\n",
            "50/50 [==============================] - 48s 954ms/step - loss: 0.1817 - sparse_categorical_accuracy: 0.9282 - val_loss: 0.2021 - val_sparse_categorical_accuracy: 0.9213\n",
            "Epoch 33/100\n",
            "50/50 [==============================] - 48s 953ms/step - loss: 0.1769 - sparse_categorical_accuracy: 0.9317 - val_loss: 0.2001 - val_sparse_categorical_accuracy: 0.9162\n",
            "Epoch 34/100\n",
            "50/50 [==============================] - 48s 954ms/step - loss: 0.1809 - sparse_categorical_accuracy: 0.9269 - val_loss: 0.1994 - val_sparse_categorical_accuracy: 0.9175\n",
            "Epoch 35/100\n",
            "50/50 [==============================] - 48s 953ms/step - loss: 0.1724 - sparse_categorical_accuracy: 0.9342 - val_loss: 0.1956 - val_sparse_categorical_accuracy: 0.9124\n",
            "Epoch 36/100\n",
            "50/50 [==============================] - 48s 954ms/step - loss: 0.1750 - sparse_categorical_accuracy: 0.9314 - val_loss: 0.1953 - val_sparse_categorical_accuracy: 0.9150\n",
            "Epoch 37/100\n",
            "50/50 [==============================] - 49s 978ms/step - loss: 0.1731 - sparse_categorical_accuracy: 0.9377 - val_loss: 0.1971 - val_sparse_categorical_accuracy: 0.9112\n",
            "Epoch 38/100\n",
            "50/50 [==============================] - 48s 953ms/step - loss: 0.1740 - sparse_categorical_accuracy: 0.9349 - val_loss: 0.1960 - val_sparse_categorical_accuracy: 0.9213\n",
            "Epoch 39/100\n",
            "50/50 [==============================] - 48s 953ms/step - loss: 0.1694 - sparse_categorical_accuracy: 0.9358 - val_loss: 0.1946 - val_sparse_categorical_accuracy: 0.9188\n",
            "Epoch 40/100\n",
            "50/50 [==============================] - 48s 954ms/step - loss: 0.1708 - sparse_categorical_accuracy: 0.9317 - val_loss: 0.1943 - val_sparse_categorical_accuracy: 0.9162\n",
            "Epoch 41/100\n",
            "50/50 [==============================] - 48s 953ms/step - loss: 0.1662 - sparse_categorical_accuracy: 0.9320 - val_loss: 0.1907 - val_sparse_categorical_accuracy: 0.9150\n",
            "Epoch 42/100\n",
            "50/50 [==============================] - 48s 954ms/step - loss: 0.1626 - sparse_categorical_accuracy: 0.9361 - val_loss: 0.1921 - val_sparse_categorical_accuracy: 0.9201\n",
            "Epoch 43/100\n",
            "50/50 [==============================] - 48s 955ms/step - loss: 0.1678 - sparse_categorical_accuracy: 0.9358 - val_loss: 0.1899 - val_sparse_categorical_accuracy: 0.9175\n",
            "Epoch 44/100\n",
            "50/50 [==============================] - 48s 954ms/step - loss: 0.1668 - sparse_categorical_accuracy: 0.9323 - val_loss: 0.1901 - val_sparse_categorical_accuracy: 0.9213\n",
            "Epoch 45/100\n",
            "50/50 [==============================] - 48s 951ms/step - loss: 0.1585 - sparse_categorical_accuracy: 0.9371 - val_loss: 0.1882 - val_sparse_categorical_accuracy: 0.9188\n",
            "Epoch 46/100\n",
            "50/50 [==============================] - 48s 953ms/step - loss: 0.1606 - sparse_categorical_accuracy: 0.9365 - val_loss: 0.1880 - val_sparse_categorical_accuracy: 0.9150\n",
            "Epoch 47/100\n",
            "50/50 [==============================] - 49s 977ms/step - loss: 0.1643 - sparse_categorical_accuracy: 0.9368 - val_loss: 0.1893 - val_sparse_categorical_accuracy: 0.9175\n",
            "Epoch 48/100\n",
            "50/50 [==============================] - 49s 978ms/step - loss: 0.1597 - sparse_categorical_accuracy: 0.9387 - val_loss: 0.1865 - val_sparse_categorical_accuracy: 0.9188\n",
            "Epoch 49/100\n",
            "50/50 [==============================] - 48s 952ms/step - loss: 0.1549 - sparse_categorical_accuracy: 0.9435 - val_loss: 0.1871 - val_sparse_categorical_accuracy: 0.9175\n",
            "Epoch 50/100\n",
            "50/50 [==============================] - 49s 979ms/step - loss: 0.1539 - sparse_categorical_accuracy: 0.9403 - val_loss: 0.1864 - val_sparse_categorical_accuracy: 0.9226\n",
            "Epoch 51/100\n",
            "50/50 [==============================] - 48s 955ms/step - loss: 0.1530 - sparse_categorical_accuracy: 0.9419 - val_loss: 0.1842 - val_sparse_categorical_accuracy: 0.9226\n",
            "Epoch 52/100\n",
            "50/50 [==============================] - 48s 953ms/step - loss: 0.1519 - sparse_categorical_accuracy: 0.9406 - val_loss: 0.1850 - val_sparse_categorical_accuracy: 0.9264\n",
            "Epoch 53/100\n",
            "50/50 [==============================] - 49s 979ms/step - loss: 0.1558 - sparse_categorical_accuracy: 0.9396 - val_loss: 0.1835 - val_sparse_categorical_accuracy: 0.9213\n",
            "Epoch 54/100\n",
            "50/50 [==============================] - 48s 954ms/step - loss: 0.1503 - sparse_categorical_accuracy: 0.9441 - val_loss: 0.1828 - val_sparse_categorical_accuracy: 0.9264\n",
            "Epoch 55/100\n",
            "50/50 [==============================] - 48s 954ms/step - loss: 0.1462 - sparse_categorical_accuracy: 0.9425 - val_loss: 0.1827 - val_sparse_categorical_accuracy: 0.9251\n",
            "Epoch 56/100\n",
            "50/50 [==============================] - 48s 953ms/step - loss: 0.1481 - sparse_categorical_accuracy: 0.9428 - val_loss: 0.1828 - val_sparse_categorical_accuracy: 0.9188\n",
            "Epoch 57/100\n",
            "50/50 [==============================] - 48s 953ms/step - loss: 0.1464 - sparse_categorical_accuracy: 0.9409 - val_loss: 0.1825 - val_sparse_categorical_accuracy: 0.9201\n",
            "Epoch 58/100\n",
            "50/50 [==============================] - 48s 954ms/step - loss: 0.1490 - sparse_categorical_accuracy: 0.9422 - val_loss: 0.1819 - val_sparse_categorical_accuracy: 0.9201\n",
            "Epoch 59/100\n",
            "50/50 [==============================] - 48s 954ms/step - loss: 0.1418 - sparse_categorical_accuracy: 0.9473 - val_loss: 0.1794 - val_sparse_categorical_accuracy: 0.9213\n",
            "Epoch 60/100\n",
            "50/50 [==============================] - 48s 954ms/step - loss: 0.1417 - sparse_categorical_accuracy: 0.9447 - val_loss: 0.1815 - val_sparse_categorical_accuracy: 0.9251\n",
            "Epoch 61/100\n",
            "50/50 [==============================] - 48s 954ms/step - loss: 0.1417 - sparse_categorical_accuracy: 0.9438 - val_loss: 0.1788 - val_sparse_categorical_accuracy: 0.9226\n",
            "Epoch 62/100\n",
            "50/50 [==============================] - 48s 954ms/step - loss: 0.1392 - sparse_categorical_accuracy: 0.9454 - val_loss: 0.1802 - val_sparse_categorical_accuracy: 0.9239\n",
            "Epoch 63/100\n",
            "50/50 [==============================] - 49s 978ms/step - loss: 0.1412 - sparse_categorical_accuracy: 0.9485 - val_loss: 0.1777 - val_sparse_categorical_accuracy: 0.9201\n",
            "Epoch 64/100\n",
            "50/50 [==============================] - 48s 953ms/step - loss: 0.1461 - sparse_categorical_accuracy: 0.9438 - val_loss: 0.1787 - val_sparse_categorical_accuracy: 0.9201\n",
            "Epoch 65/100\n",
            "50/50 [==============================] - 48s 953ms/step - loss: 0.1357 - sparse_categorical_accuracy: 0.9444 - val_loss: 0.1820 - val_sparse_categorical_accuracy: 0.9264\n",
            "Epoch 66/100\n",
            "50/50 [==============================] - 48s 954ms/step - loss: 0.1389 - sparse_categorical_accuracy: 0.9412 - val_loss: 0.1779 - val_sparse_categorical_accuracy: 0.9201\n",
            "Epoch 67/100\n",
            "50/50 [==============================] - 49s 978ms/step - loss: 0.1376 - sparse_categorical_accuracy: 0.9485 - val_loss: 0.1780 - val_sparse_categorical_accuracy: 0.9201\n",
            "Epoch 68/100\n",
            "50/50 [==============================] - 48s 954ms/step - loss: 0.1320 - sparse_categorical_accuracy: 0.9520 - val_loss: 0.1754 - val_sparse_categorical_accuracy: 0.9201\n",
            "Epoch 69/100\n",
            "50/50 [==============================] - 48s 953ms/step - loss: 0.1382 - sparse_categorical_accuracy: 0.9457 - val_loss: 0.1756 - val_sparse_categorical_accuracy: 0.9201\n",
            "Epoch 70/100\n",
            "50/50 [==============================] - 48s 953ms/step - loss: 0.1363 - sparse_categorical_accuracy: 0.9457 - val_loss: 0.1778 - val_sparse_categorical_accuracy: 0.9251\n",
            "Epoch 71/100\n",
            "50/50 [==============================] - 48s 953ms/step - loss: 0.1318 - sparse_categorical_accuracy: 0.9514 - val_loss: 0.1767 - val_sparse_categorical_accuracy: 0.9277\n",
            "Epoch 72/100\n",
            "50/50 [==============================] - 48s 954ms/step - loss: 0.1366 - sparse_categorical_accuracy: 0.9514 - val_loss: 0.1753 - val_sparse_categorical_accuracy: 0.9226\n",
            "Epoch 73/100\n",
            "50/50 [==============================] - 48s 953ms/step - loss: 0.1306 - sparse_categorical_accuracy: 0.9482 - val_loss: 0.1776 - val_sparse_categorical_accuracy: 0.9213\n",
            "Epoch 74/100\n",
            "50/50 [==============================] - 48s 953ms/step - loss: 0.1302 - sparse_categorical_accuracy: 0.9501 - val_loss: 0.1776 - val_sparse_categorical_accuracy: 0.9175\n",
            "Epoch 75/100\n",
            "50/50 [==============================] - 48s 953ms/step - loss: 0.1276 - sparse_categorical_accuracy: 0.9520 - val_loss: 0.1783 - val_sparse_categorical_accuracy: 0.9226\n",
            "Epoch 76/100\n",
            "50/50 [==============================] - 48s 954ms/step - loss: 0.1269 - sparse_categorical_accuracy: 0.9533 - val_loss: 0.1786 - val_sparse_categorical_accuracy: 0.9226\n",
            "Epoch 77/100\n",
            "50/50 [==============================] - 48s 954ms/step - loss: 0.1243 - sparse_categorical_accuracy: 0.9511 - val_loss: 0.1758 - val_sparse_categorical_accuracy: 0.9188\n",
            "Epoch 78/100\n",
            "50/50 [==============================] - 48s 953ms/step - loss: 0.1256 - sparse_categorical_accuracy: 0.9517 - val_loss: 0.1751 - val_sparse_categorical_accuracy: 0.9251\n",
            "Epoch 79/100\n",
            "50/50 [==============================] - 49s 978ms/step - loss: 0.1281 - sparse_categorical_accuracy: 0.9482 - val_loss: 0.1754 - val_sparse_categorical_accuracy: 0.9201\n",
            "Epoch 80/100\n",
            "50/50 [==============================] - 48s 954ms/step - loss: 0.1239 - sparse_categorical_accuracy: 0.9533 - val_loss: 0.1748 - val_sparse_categorical_accuracy: 0.9226\n",
            "Epoch 81/100\n",
            "50/50 [==============================] - 48s 953ms/step - loss: 0.1243 - sparse_categorical_accuracy: 0.9530 - val_loss: 0.1753 - val_sparse_categorical_accuracy: 0.9239\n",
            "Epoch 82/100\n",
            "50/50 [==============================] - 48s 954ms/step - loss: 0.1259 - sparse_categorical_accuracy: 0.9536 - val_loss: 0.1757 - val_sparse_categorical_accuracy: 0.9213\n",
            "Epoch 83/100\n",
            "50/50 [==============================] - 48s 953ms/step - loss: 0.1269 - sparse_categorical_accuracy: 0.9511 - val_loss: 0.1766 - val_sparse_categorical_accuracy: 0.9226\n",
            "Epoch 84/100\n",
            "50/50 [==============================] - 48s 953ms/step - loss: 0.1263 - sparse_categorical_accuracy: 0.9520 - val_loss: 0.1751 - val_sparse_categorical_accuracy: 0.9213\n",
            "Epoch 85/100\n",
            "50/50 [==============================] - 49s 978ms/step - loss: 0.1213 - sparse_categorical_accuracy: 0.9533 - val_loss: 0.1734 - val_sparse_categorical_accuracy: 0.9226\n",
            "Epoch 86/100\n",
            "50/50 [==============================] - 48s 953ms/step - loss: 0.1201 - sparse_categorical_accuracy: 0.9520 - val_loss: 0.1739 - val_sparse_categorical_accuracy: 0.9213\n",
            "Epoch 87/100\n",
            "50/50 [==============================] - 48s 954ms/step - loss: 0.1246 - sparse_categorical_accuracy: 0.9495 - val_loss: 0.1735 - val_sparse_categorical_accuracy: 0.9251\n",
            "Epoch 88/100\n",
            "50/50 [==============================] - 48s 953ms/step - loss: 0.1182 - sparse_categorical_accuracy: 0.9565 - val_loss: 0.1737 - val_sparse_categorical_accuracy: 0.9213\n",
            "Epoch 89/100\n",
            "50/50 [==============================] - 48s 953ms/step - loss: 0.1201 - sparse_categorical_accuracy: 0.9489 - val_loss: 0.1730 - val_sparse_categorical_accuracy: 0.9213\n",
            "Epoch 90/100\n",
            "50/50 [==============================] - 48s 953ms/step - loss: 0.1230 - sparse_categorical_accuracy: 0.9508 - val_loss: 0.1738 - val_sparse_categorical_accuracy: 0.9264\n",
            "Epoch 91/100\n",
            "50/50 [==============================] - 48s 953ms/step - loss: 0.1162 - sparse_categorical_accuracy: 0.9565 - val_loss: 0.1736 - val_sparse_categorical_accuracy: 0.9226\n",
            "Epoch 92/100\n",
            "50/50 [==============================] - 48s 954ms/step - loss: 0.1200 - sparse_categorical_accuracy: 0.9558 - val_loss: 0.1728 - val_sparse_categorical_accuracy: 0.9315\n",
            "Epoch 93/100\n",
            "50/50 [==============================] - 48s 954ms/step - loss: 0.1145 - sparse_categorical_accuracy: 0.9603 - val_loss: 0.1724 - val_sparse_categorical_accuracy: 0.9226\n",
            "Epoch 94/100\n",
            "50/50 [==============================] - 48s 953ms/step - loss: 0.1176 - sparse_categorical_accuracy: 0.9533 - val_loss: 0.1726 - val_sparse_categorical_accuracy: 0.9239\n",
            "Epoch 95/100\n",
            "50/50 [==============================] - 48s 953ms/step - loss: 0.1181 - sparse_categorical_accuracy: 0.9533 - val_loss: 0.1760 - val_sparse_categorical_accuracy: 0.9226\n",
            "Epoch 96/100\n",
            "50/50 [==============================] - 48s 953ms/step - loss: 0.1177 - sparse_categorical_accuracy: 0.9565 - val_loss: 0.1728 - val_sparse_categorical_accuracy: 0.9239\n",
            "Epoch 97/100\n",
            "50/50 [==============================] - 48s 954ms/step - loss: 0.1124 - sparse_categorical_accuracy: 0.9552 - val_loss: 0.1738 - val_sparse_categorical_accuracy: 0.9239\n",
            "Epoch 98/100\n",
            "50/50 [==============================] - 48s 954ms/step - loss: 0.1153 - sparse_categorical_accuracy: 0.9546 - val_loss: 0.1768 - val_sparse_categorical_accuracy: 0.9251\n",
            "Epoch 99/100\n",
            "50/50 [==============================] - 48s 954ms/step - loss: 0.1128 - sparse_categorical_accuracy: 0.9606 - val_loss: 0.1723 - val_sparse_categorical_accuracy: 0.9302\n",
            "Epoch 100/100\n",
            "50/50 [==============================] - 48s 953ms/step - loss: 0.1140 - sparse_categorical_accuracy: 0.9558 - val_loss: 0.1796 - val_sparse_categorical_accuracy: 0.9213\n"
          ]
        },
        {
          "output_type": "error",
          "ename": "ValueError",
          "evalue": "ignored",
          "traceback": [
            "\u001b[0;31m---------------------------------------------------------------------------\u001b[0m",
            "\u001b[0;31mValueError\u001b[0m                                Traceback (most recent call last)",
            "\u001b[0;32m<ipython-input-129-aa874393614e>\u001b[0m in \u001b[0;36m<module>\u001b[0;34m()\u001b[0m\n\u001b[1;32m     30\u001b[0m )\n\u001b[1;32m     31\u001b[0m \u001b[0;34m\u001b[0m\u001b[0m\n\u001b[0;32m---> 32\u001b[0;31m \u001b[0mmodel\u001b[0m\u001b[0;34m.\u001b[0m\u001b[0mevaluate\u001b[0m\u001b[0;34m(\u001b[0m\u001b[0mx_test\u001b[0m\u001b[0;34m,\u001b[0m \u001b[0my_test\u001b[0m\u001b[0;34m,\u001b[0m \u001b[0mverbose\u001b[0m\u001b[0;34m=\u001b[0m\u001b[0;36m1\u001b[0m\u001b[0;34m)\u001b[0m\u001b[0;34m\u001b[0m\u001b[0;34m\u001b[0m\u001b[0m\n\u001b[0m",
            "\u001b[0;32m/usr/local/lib/python3.7/dist-packages/keras/utils/traceback_utils.py\u001b[0m in \u001b[0;36merror_handler\u001b[0;34m(*args, **kwargs)\u001b[0m\n\u001b[1;32m     65\u001b[0m     \u001b[0;32mexcept\u001b[0m \u001b[0mException\u001b[0m \u001b[0;32mas\u001b[0m \u001b[0me\u001b[0m\u001b[0;34m:\u001b[0m  \u001b[0;31m# pylint: disable=broad-except\u001b[0m\u001b[0;34m\u001b[0m\u001b[0;34m\u001b[0m\u001b[0m\n\u001b[1;32m     66\u001b[0m       \u001b[0mfiltered_tb\u001b[0m \u001b[0;34m=\u001b[0m \u001b[0m_process_traceback_frames\u001b[0m\u001b[0;34m(\u001b[0m\u001b[0me\u001b[0m\u001b[0;34m.\u001b[0m\u001b[0m__traceback__\u001b[0m\u001b[0;34m)\u001b[0m\u001b[0;34m\u001b[0m\u001b[0;34m\u001b[0m\u001b[0m\n\u001b[0;32m---> 67\u001b[0;31m       \u001b[0;32mraise\u001b[0m \u001b[0me\u001b[0m\u001b[0;34m.\u001b[0m\u001b[0mwith_traceback\u001b[0m\u001b[0;34m(\u001b[0m\u001b[0mfiltered_tb\u001b[0m\u001b[0;34m)\u001b[0m \u001b[0;32mfrom\u001b[0m \u001b[0;32mNone\u001b[0m\u001b[0;34m\u001b[0m\u001b[0;34m\u001b[0m\u001b[0m\n\u001b[0m\u001b[1;32m     68\u001b[0m     \u001b[0;32mfinally\u001b[0m\u001b[0;34m:\u001b[0m\u001b[0;34m\u001b[0m\u001b[0;34m\u001b[0m\u001b[0m\n\u001b[1;32m     69\u001b[0m       \u001b[0;32mdel\u001b[0m \u001b[0mfiltered_tb\u001b[0m\u001b[0;34m\u001b[0m\u001b[0;34m\u001b[0m\u001b[0m\n",
            "\u001b[0;32m/usr/local/lib/python3.7/dist-packages/tensorflow/python/framework/constant_op.py\u001b[0m in \u001b[0;36mconvert_to_eager_tensor\u001b[0;34m(value, ctx, dtype)\u001b[0m\n\u001b[1;32m    100\u001b[0m       \u001b[0mdtype\u001b[0m \u001b[0;34m=\u001b[0m \u001b[0mdtypes\u001b[0m\u001b[0;34m.\u001b[0m\u001b[0mas_dtype\u001b[0m\u001b[0;34m(\u001b[0m\u001b[0mdtype\u001b[0m\u001b[0;34m)\u001b[0m\u001b[0;34m.\u001b[0m\u001b[0mas_datatype_enum\u001b[0m\u001b[0;34m\u001b[0m\u001b[0;34m\u001b[0m\u001b[0m\n\u001b[1;32m    101\u001b[0m   \u001b[0mctx\u001b[0m\u001b[0;34m.\u001b[0m\u001b[0mensure_initialized\u001b[0m\u001b[0;34m(\u001b[0m\u001b[0;34m)\u001b[0m\u001b[0;34m\u001b[0m\u001b[0;34m\u001b[0m\u001b[0m\n\u001b[0;32m--> 102\u001b[0;31m   \u001b[0;32mreturn\u001b[0m \u001b[0mops\u001b[0m\u001b[0;34m.\u001b[0m\u001b[0mEagerTensor\u001b[0m\u001b[0;34m(\u001b[0m\u001b[0mvalue\u001b[0m\u001b[0;34m,\u001b[0m \u001b[0mctx\u001b[0m\u001b[0;34m.\u001b[0m\u001b[0mdevice_name\u001b[0m\u001b[0;34m,\u001b[0m \u001b[0mdtype\u001b[0m\u001b[0;34m)\u001b[0m\u001b[0;34m\u001b[0m\u001b[0;34m\u001b[0m\u001b[0m\n\u001b[0m\u001b[1;32m    103\u001b[0m \u001b[0;34m\u001b[0m\u001b[0m\n\u001b[1;32m    104\u001b[0m \u001b[0;34m\u001b[0m\u001b[0m\n",
            "\u001b[0;31mValueError\u001b[0m: Failed to convert a NumPy array to a Tensor (Unsupported object type Series)."
          ]
        }
      ]
    },
    {
      "cell_type": "code",
      "source": [
        "model.save(\"transformer_banana_muffin\")"
      ],
      "metadata": {
        "execution": {
          "iopub.status.busy": "2022-05-21T17:07:04.467308Z",
          "iopub.status.idle": "2022-05-21T17:07:04.467678Z",
          "shell.execute_reply.started": "2022-05-21T17:07:04.467466Z",
          "shell.execute_reply": "2022-05-21T17:07:04.467490Z"
        },
        "trusted": true,
        "id": "Hvil_9nIJcy2"
      },
      "execution_count": null,
      "outputs": []
    },
    {
      "cell_type": "code",
      "source": [
        "scaler.fit(data['dim_0'])\n",
        "data['dim_0'] = scaler.transform(data['dim_0'])"
      ],
      "metadata": {
        "execution": {
          "iopub.status.busy": "2022-05-21T17:07:04.468915Z",
          "iopub.status.idle": "2022-05-21T17:07:04.469260Z",
          "shell.execute_reply.started": "2022-05-21T17:07:04.469077Z",
          "shell.execute_reply": "2022-05-21T17:07:04.469100Z"
        },
        "trusted": true,
        "id": "KwDaOa7FJcy3"
      },
      "execution_count": null,
      "outputs": []
    },
    {
      "cell_type": "code",
      "source": [
        "!zip -r transformer.zip \"/kaggle/working/transformer_banana_muffin\""
      ],
      "metadata": {
        "execution": {
          "iopub.status.busy": "2022-05-21T17:07:04.470485Z",
          "iopub.status.idle": "2022-05-21T17:07:04.470842Z",
          "shell.execute_reply.started": "2022-05-21T17:07:04.470669Z",
          "shell.execute_reply": "2022-05-21T17:07:04.470693Z"
        },
        "trusted": true,
        "id": "0SA4vlzzJcy3"
      },
      "execution_count": null,
      "outputs": []
    },
    {
      "cell_type": "markdown",
      "source": [
        "# Normalize Data"
      ],
      "metadata": {
        "id": "G7trg6CIJcy3"
      }
    },
    {
      "cell_type": "code",
      "source": [
        "scaler.fit(data['dim_0'][0])"
      ],
      "metadata": {
        "execution": {
          "iopub.status.busy": "2022-05-21T17:07:04.471987Z",
          "iopub.status.idle": "2022-05-21T17:07:04.472317Z",
          "shell.execute_reply.started": "2022-05-21T17:07:04.472147Z",
          "shell.execute_reply": "2022-05-21T17:07:04.472170Z"
        },
        "trusted": true,
        "id": "iw1TVX4iJcy4"
      },
      "execution_count": null,
      "outputs": []
    },
    {
      "cell_type": "code",
      "source": [
        "data['dim_0'] = data['dim_0'].apply(lambda x: scaler.transform(x))"
      ],
      "metadata": {
        "execution": {
          "iopub.status.busy": "2022-05-21T17:07:04.473370Z",
          "iopub.status.idle": "2022-05-21T17:07:04.473716Z",
          "shell.execute_reply.started": "2022-05-21T17:07:04.473543Z",
          "shell.execute_reply": "2022-05-21T17:07:04.473563Z"
        },
        "trusted": true,
        "id": "yXNFOhwcJcy5"
      },
      "execution_count": null,
      "outputs": []
    },
    {
      "cell_type": "code",
      "source": [
        "x_train,x_test,y_train,y_test = train_test_split(input_x,y, test_size=0.2, random_state=42, stratify=y)"
      ],
      "metadata": {
        "execution": {
          "iopub.status.busy": "2022-05-21T17:07:04.475305Z",
          "iopub.status.idle": "2022-05-21T17:07:04.475877Z",
          "shell.execute_reply.started": "2022-05-21T17:07:04.475689Z",
          "shell.execute_reply": "2022-05-21T17:07:04.475716Z"
        },
        "trusted": true,
        "id": "BzRLvQ6bJcy5"
      },
      "execution_count": null,
      "outputs": []
    },
    {
      "cell_type": "code",
      "source": [
        "y_train[y_train == -1] = 0\n",
        "y_test[y_test == -1] = 0\n",
        "n_classes = len(np.unique(y_train))"
      ],
      "metadata": {
        "execution": {
          "iopub.status.busy": "2022-05-21T17:07:04.476889Z",
          "iopub.status.idle": "2022-05-21T17:07:04.477185Z",
          "shell.execute_reply.started": "2022-05-21T17:07:04.477023Z",
          "shell.execute_reply": "2022-05-21T17:07:04.477039Z"
        },
        "trusted": true,
        "id": "oUWRNka_Jcy5"
      },
      "execution_count": null,
      "outputs": []
    },
    {
      "cell_type": "code",
      "source": [
        "input_shape = x_train.shape[1:]\n",
        "\n",
        "model = build_model(\n",
        "    input_shape,\n",
        "    head_size=256,\n",
        "    num_heads=4,\n",
        "    ff_dim=4,\n",
        "    num_transformer_blocks=4,\n",
        "    mlp_units=[128],\n",
        "    mlp_dropout=0.4,\n",
        "    dropout=0.25,\n",
        ")\n",
        "\n",
        "model.compile(\n",
        "    loss=\"sparse_categorical_crossentropy\",\n",
        "    optimizer=keras.optimizers.Adam(learning_rate=1e-4),\n",
        "    metrics=[\"sparse_categorical_accuracy\"],\n",
        ")\n",
        "model.summary()\n",
        "\n",
        "callbacks = [keras.callbacks.EarlyStopping(patience=10, restore_best_weights=True)]\n",
        "\n",
        "model.fit(\n",
        "    x_train,\n",
        "    y_train,\n",
        "    validation_split=0.2,\n",
        "    epochs=100,\n",
        "    batch_size=64,\n",
        "    callbacks=callbacks,\n",
        ")\n",
        "\n",
        "model.evaluate(x_test, y_test, verbose=1)"
      ],
      "metadata": {
        "execution": {
          "iopub.status.busy": "2022-05-21T17:07:04.478701Z",
          "iopub.status.idle": "2022-05-21T17:07:04.479345Z",
          "shell.execute_reply.started": "2022-05-21T17:07:04.479139Z",
          "shell.execute_reply": "2022-05-21T17:07:04.479164Z"
        },
        "trusted": true,
        "id": "-vS1UOHlJcy6"
      },
      "execution_count": null,
      "outputs": []
    },
    {
      "cell_type": "code",
      "source": [
        "model.save(\"transformer_banana_muffin_normalized\")"
      ],
      "metadata": {
        "execution": {
          "iopub.status.busy": "2022-05-21T17:07:04.480286Z",
          "iopub.status.idle": "2022-05-21T17:07:04.481130Z",
          "shell.execute_reply.started": "2022-05-21T17:07:04.480872Z",
          "shell.execute_reply": "2022-05-21T17:07:04.480901Z"
        },
        "trusted": true,
        "id": "5wZP6132Jcy6"
      },
      "execution_count": null,
      "outputs": []
    },
    {
      "cell_type": "code",
      "source": [
        "!zip -r transformer_normalized.zip \"/kaggle/working/transformer_banana_muffin_normalized\""
      ],
      "metadata": {
        "execution": {
          "iopub.status.busy": "2022-05-21T17:07:04.482224Z",
          "iopub.status.idle": "2022-05-21T17:07:04.482577Z",
          "shell.execute_reply.started": "2022-05-21T17:07:04.482374Z",
          "shell.execute_reply": "2022-05-21T17:07:04.482397Z"
        },
        "trusted": true,
        "id": "-K9mNw_wJcy6"
      },
      "execution_count": null,
      "outputs": []
    }
  ]
}